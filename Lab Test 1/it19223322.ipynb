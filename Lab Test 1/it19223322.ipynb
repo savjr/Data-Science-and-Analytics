{
 "cells": [
  {
   "cell_type": "code",
   "execution_count": 1,
   "id": "d2e9f562",
   "metadata": {},
   "outputs": [],
   "source": [
    "import pandas as pd\n",
    "import numpy as np\n",
    "from matplotlib import pyplot as plt\n",
    "import seaborn as sns\n",
    "sns.set()\n",
    "from sklearn.cluster import KMeans"
   ]
  },
  {
   "cell_type": "code",
   "execution_count": 2,
   "id": "2fea06c8",
   "metadata": {},
   "outputs": [],
   "source": [
    "cars = pd.read_csv(\"cars.csv\")"
   ]
  },
  {
   "cell_type": "code",
   "execution_count": 3,
   "id": "b521f13f",
   "metadata": {},
   "outputs": [
    {
     "data": {
      "text/html": [
       "<div>\n",
       "<style scoped>\n",
       "    .dataframe tbody tr th:only-of-type {\n",
       "        vertical-align: middle;\n",
       "    }\n",
       "\n",
       "    .dataframe tbody tr th {\n",
       "        vertical-align: top;\n",
       "    }\n",
       "\n",
       "    .dataframe thead th {\n",
       "        text-align: right;\n",
       "    }\n",
       "</style>\n",
       "<table border=\"1\" class=\"dataframe\">\n",
       "  <thead>\n",
       "    <tr style=\"text-align: right;\">\n",
       "      <th></th>\n",
       "      <th>mpg</th>\n",
       "      <th>hoursePower</th>\n",
       "      <th>Make Year</th>\n",
       "      <th>time-to-60</th>\n",
       "      <th>cubicinches</th>\n",
       "      <th>weightlbs</th>\n",
       "      <th>cylinders</th>\n",
       "      <th>brand</th>\n",
       "    </tr>\n",
       "  </thead>\n",
       "  <tbody>\n",
       "    <tr>\n",
       "      <th>0</th>\n",
       "      <td>14.0</td>\n",
       "      <td>165</td>\n",
       "      <td>1972</td>\n",
       "      <td>12</td>\n",
       "      <td>350.0</td>\n",
       "      <td>4209.0</td>\n",
       "      <td>8</td>\n",
       "      <td>US.</td>\n",
       "    </tr>\n",
       "    <tr>\n",
       "      <th>1</th>\n",
       "      <td>31.9</td>\n",
       "      <td>71</td>\n",
       "      <td>1980</td>\n",
       "      <td>14</td>\n",
       "      <td>89.0</td>\n",
       "      <td>1925.0</td>\n",
       "      <td>4</td>\n",
       "      <td>Europe.</td>\n",
       "    </tr>\n",
       "    <tr>\n",
       "      <th>2</th>\n",
       "      <td>17.0</td>\n",
       "      <td>140</td>\n",
       "      <td>1971</td>\n",
       "      <td>11</td>\n",
       "      <td>302.0</td>\n",
       "      <td>3449.0</td>\n",
       "      <td>8</td>\n",
       "      <td>US.</td>\n",
       "    </tr>\n",
       "    <tr>\n",
       "      <th>3</th>\n",
       "      <td>15.0</td>\n",
       "      <td>150</td>\n",
       "      <td>1971</td>\n",
       "      <td>10</td>\n",
       "      <td>400.0</td>\n",
       "      <td>3761.0</td>\n",
       "      <td>8</td>\n",
       "      <td>US.</td>\n",
       "    </tr>\n",
       "    <tr>\n",
       "      <th>4</th>\n",
       "      <td>30.5</td>\n",
       "      <td>63</td>\n",
       "      <td>1978</td>\n",
       "      <td>17</td>\n",
       "      <td>98.0</td>\n",
       "      <td>2051.0</td>\n",
       "      <td>4</td>\n",
       "      <td>US.</td>\n",
       "    </tr>\n",
       "  </tbody>\n",
       "</table>\n",
       "</div>"
      ],
      "text/plain": [
       "    mpg  hoursePower  Make Year  time-to-60  cubicinches  weightlbs  \\\n",
       "0  14.0          165       1972          12        350.0     4209.0   \n",
       "1  31.9           71       1980          14         89.0     1925.0   \n",
       "2  17.0          140       1971          11        302.0     3449.0   \n",
       "3  15.0          150       1971          10        400.0     3761.0   \n",
       "4  30.5           63       1978          17         98.0     2051.0   \n",
       "\n",
       "   cylinders     brand  \n",
       "0          8       US.  \n",
       "1          4   Europe.  \n",
       "2          8       US.  \n",
       "3          8       US.  \n",
       "4          4       US.  "
      ]
     },
     "execution_count": 3,
     "metadata": {},
     "output_type": "execute_result"
    }
   ],
   "source": [
    "cars.head()"
   ]
  },
  {
   "cell_type": "code",
   "execution_count": 4,
   "id": "0e61b670",
   "metadata": {},
   "outputs": [
    {
     "data": {
      "text/plain": [
       "(261, 8)"
      ]
     },
     "execution_count": 4,
     "metadata": {},
     "output_type": "execute_result"
    }
   ],
   "source": [
    "cars.shape"
   ]
  },
  {
   "cell_type": "code",
   "execution_count": 5,
   "id": "89a6a9a6",
   "metadata": {},
   "outputs": [
    {
     "data": {
      "text/html": [
       "<div>\n",
       "<style scoped>\n",
       "    .dataframe tbody tr th:only-of-type {\n",
       "        vertical-align: middle;\n",
       "    }\n",
       "\n",
       "    .dataframe tbody tr th {\n",
       "        vertical-align: top;\n",
       "    }\n",
       "\n",
       "    .dataframe thead th {\n",
       "        text-align: right;\n",
       "    }\n",
       "</style>\n",
       "<table border=\"1\" class=\"dataframe\">\n",
       "  <thead>\n",
       "    <tr style=\"text-align: right;\">\n",
       "      <th></th>\n",
       "      <th>mpg</th>\n",
       "      <th>hoursePower</th>\n",
       "      <th>Make Year</th>\n",
       "      <th>time-to-60</th>\n",
       "      <th>cubicinches</th>\n",
       "      <th>weightlbs</th>\n",
       "      <th>cylinders</th>\n",
       "    </tr>\n",
       "  </thead>\n",
       "  <tbody>\n",
       "    <tr>\n",
       "      <th>count</th>\n",
       "      <td>261.000000</td>\n",
       "      <td>261.000000</td>\n",
       "      <td>261.000000</td>\n",
       "      <td>261.000000</td>\n",
       "      <td>259.000000</td>\n",
       "      <td>258.000000</td>\n",
       "      <td>261.000000</td>\n",
       "    </tr>\n",
       "    <tr>\n",
       "      <th>mean</th>\n",
       "      <td>23.144828</td>\n",
       "      <td>106.360153</td>\n",
       "      <td>1976.819923</td>\n",
       "      <td>15.547893</td>\n",
       "      <td>200.000000</td>\n",
       "      <td>3009.000000</td>\n",
       "      <td>5.590038</td>\n",
       "    </tr>\n",
       "    <tr>\n",
       "      <th>std</th>\n",
       "      <td>7.823570</td>\n",
       "      <td>40.499959</td>\n",
       "      <td>3.637696</td>\n",
       "      <td>2.910625</td>\n",
       "      <td>109.376669</td>\n",
       "      <td>854.020553</td>\n",
       "      <td>1.733310</td>\n",
       "    </tr>\n",
       "    <tr>\n",
       "      <th>min</th>\n",
       "      <td>10.000000</td>\n",
       "      <td>46.000000</td>\n",
       "      <td>1971.000000</td>\n",
       "      <td>8.000000</td>\n",
       "      <td>68.000000</td>\n",
       "      <td>1613.000000</td>\n",
       "      <td>3.000000</td>\n",
       "    </tr>\n",
       "    <tr>\n",
       "      <th>25%</th>\n",
       "      <td>16.900000</td>\n",
       "      <td>75.000000</td>\n",
       "      <td>1974.000000</td>\n",
       "      <td>14.000000</td>\n",
       "      <td>103.000000</td>\n",
       "      <td>2248.000000</td>\n",
       "      <td>4.000000</td>\n",
       "    </tr>\n",
       "    <tr>\n",
       "      <th>50%</th>\n",
       "      <td>22.000000</td>\n",
       "      <td>95.000000</td>\n",
       "      <td>1977.000000</td>\n",
       "      <td>16.000000</td>\n",
       "      <td>156.000000</td>\n",
       "      <td>2865.000000</td>\n",
       "      <td>6.000000</td>\n",
       "    </tr>\n",
       "    <tr>\n",
       "      <th>75%</th>\n",
       "      <td>28.800000</td>\n",
       "      <td>138.000000</td>\n",
       "      <td>1980.000000</td>\n",
       "      <td>17.000000</td>\n",
       "      <td>303.000000</td>\n",
       "      <td>3670.000000</td>\n",
       "      <td>8.000000</td>\n",
       "    </tr>\n",
       "    <tr>\n",
       "      <th>max</th>\n",
       "      <td>46.600000</td>\n",
       "      <td>230.000000</td>\n",
       "      <td>1983.000000</td>\n",
       "      <td>25.000000</td>\n",
       "      <td>455.000000</td>\n",
       "      <td>4997.000000</td>\n",
       "      <td>8.000000</td>\n",
       "    </tr>\n",
       "  </tbody>\n",
       "</table>\n",
       "</div>"
      ],
      "text/plain": [
       "              mpg  hoursePower    Make Year  time-to-60  cubicinches  \\\n",
       "count  261.000000   261.000000   261.000000  261.000000   259.000000   \n",
       "mean    23.144828   106.360153  1976.819923   15.547893   200.000000   \n",
       "std      7.823570    40.499959     3.637696    2.910625   109.376669   \n",
       "min     10.000000    46.000000  1971.000000    8.000000    68.000000   \n",
       "25%     16.900000    75.000000  1974.000000   14.000000   103.000000   \n",
       "50%     22.000000    95.000000  1977.000000   16.000000   156.000000   \n",
       "75%     28.800000   138.000000  1980.000000   17.000000   303.000000   \n",
       "max     46.600000   230.000000  1983.000000   25.000000   455.000000   \n",
       "\n",
       "         weightlbs   cylinders  \n",
       "count   258.000000  261.000000  \n",
       "mean   3009.000000    5.590038  \n",
       "std     854.020553    1.733310  \n",
       "min    1613.000000    3.000000  \n",
       "25%    2248.000000    4.000000  \n",
       "50%    2865.000000    6.000000  \n",
       "75%    3670.000000    8.000000  \n",
       "max    4997.000000    8.000000  "
      ]
     },
     "execution_count": 5,
     "metadata": {},
     "output_type": "execute_result"
    }
   ],
   "source": [
    "cars.describe()"
   ]
  },
  {
   "cell_type": "code",
   "execution_count": 6,
   "id": "f707ee8e",
   "metadata": {},
   "outputs": [
    {
     "data": {
      "text/plain": [
       "mpg            float64\n",
       "hoursePower      int64\n",
       "Make Year        int64\n",
       "time-to-60       int64\n",
       "cubicinches    float64\n",
       "weightlbs      float64\n",
       "cylinders        int64\n",
       "brand           object\n",
       "dtype: object"
      ]
     },
     "execution_count": 6,
     "metadata": {},
     "output_type": "execute_result"
    }
   ],
   "source": [
    "cars.dtypes"
   ]
  },
  {
   "cell_type": "code",
   "execution_count": 7,
   "id": "16890249",
   "metadata": {},
   "outputs": [
    {
     "data": {
      "text/plain": [
       "mpg            0\n",
       "hoursePower    0\n",
       "Make Year      0\n",
       "time-to-60     0\n",
       "cubicinches    2\n",
       "weightlbs      3\n",
       "cylinders      0\n",
       "brand          0\n",
       "dtype: int64"
      ]
     },
     "execution_count": 7,
     "metadata": {},
     "output_type": "execute_result"
    }
   ],
   "source": [
    "cars.isnull().sum()"
   ]
  },
  {
   "cell_type": "code",
   "execution_count": 8,
   "id": "23966f1f",
   "metadata": {},
   "outputs": [],
   "source": [
    "cars['cubicinches'].fillna(cars['cubicinches'].mean(),inplace = True)\n",
    "cars['weightlbs'].fillna(cars['weightlbs'].mean(),inplace = True)"
   ]
  },
  {
   "cell_type": "code",
   "execution_count": 9,
   "id": "811c64c4",
   "metadata": {},
   "outputs": [
    {
     "data": {
      "text/html": [
       "<div>\n",
       "<style scoped>\n",
       "    .dataframe tbody tr th:only-of-type {\n",
       "        vertical-align: middle;\n",
       "    }\n",
       "\n",
       "    .dataframe tbody tr th {\n",
       "        vertical-align: top;\n",
       "    }\n",
       "\n",
       "    .dataframe thead th {\n",
       "        text-align: right;\n",
       "    }\n",
       "</style>\n",
       "<table border=\"1\" class=\"dataframe\">\n",
       "  <thead>\n",
       "    <tr style=\"text-align: right;\">\n",
       "      <th></th>\n",
       "      <th>mpg</th>\n",
       "      <th>hoursePower</th>\n",
       "      <th>Make Year</th>\n",
       "      <th>time-to-60</th>\n",
       "      <th>cubicinches</th>\n",
       "      <th>weightlbs</th>\n",
       "      <th>cylinders</th>\n",
       "      <th>brand</th>\n",
       "    </tr>\n",
       "  </thead>\n",
       "  <tbody>\n",
       "    <tr>\n",
       "      <th>0</th>\n",
       "      <td>14.0</td>\n",
       "      <td>165</td>\n",
       "      <td>1972</td>\n",
       "      <td>12</td>\n",
       "      <td>350.0</td>\n",
       "      <td>4209.0</td>\n",
       "      <td>8</td>\n",
       "      <td>US.</td>\n",
       "    </tr>\n",
       "    <tr>\n",
       "      <th>1</th>\n",
       "      <td>31.9</td>\n",
       "      <td>71</td>\n",
       "      <td>1980</td>\n",
       "      <td>14</td>\n",
       "      <td>89.0</td>\n",
       "      <td>1925.0</td>\n",
       "      <td>4</td>\n",
       "      <td>Europe.</td>\n",
       "    </tr>\n",
       "    <tr>\n",
       "      <th>2</th>\n",
       "      <td>17.0</td>\n",
       "      <td>140</td>\n",
       "      <td>1971</td>\n",
       "      <td>11</td>\n",
       "      <td>302.0</td>\n",
       "      <td>3449.0</td>\n",
       "      <td>8</td>\n",
       "      <td>US.</td>\n",
       "    </tr>\n",
       "    <tr>\n",
       "      <th>3</th>\n",
       "      <td>15.0</td>\n",
       "      <td>150</td>\n",
       "      <td>1971</td>\n",
       "      <td>10</td>\n",
       "      <td>400.0</td>\n",
       "      <td>3761.0</td>\n",
       "      <td>8</td>\n",
       "      <td>US.</td>\n",
       "    </tr>\n",
       "    <tr>\n",
       "      <th>4</th>\n",
       "      <td>30.5</td>\n",
       "      <td>63</td>\n",
       "      <td>1978</td>\n",
       "      <td>17</td>\n",
       "      <td>98.0</td>\n",
       "      <td>2051.0</td>\n",
       "      <td>4</td>\n",
       "      <td>US.</td>\n",
       "    </tr>\n",
       "    <tr>\n",
       "      <th>...</th>\n",
       "      <td>...</td>\n",
       "      <td>...</td>\n",
       "      <td>...</td>\n",
       "      <td>...</td>\n",
       "      <td>...</td>\n",
       "      <td>...</td>\n",
       "      <td>...</td>\n",
       "      <td>...</td>\n",
       "    </tr>\n",
       "    <tr>\n",
       "      <th>256</th>\n",
       "      <td>17.0</td>\n",
       "      <td>130</td>\n",
       "      <td>1980</td>\n",
       "      <td>15</td>\n",
       "      <td>305.0</td>\n",
       "      <td>3840.0</td>\n",
       "      <td>8</td>\n",
       "      <td>US.</td>\n",
       "    </tr>\n",
       "    <tr>\n",
       "      <th>257</th>\n",
       "      <td>36.1</td>\n",
       "      <td>60</td>\n",
       "      <td>1979</td>\n",
       "      <td>16</td>\n",
       "      <td>118.0</td>\n",
       "      <td>1800.0</td>\n",
       "      <td>4</td>\n",
       "      <td>Japan.</td>\n",
       "    </tr>\n",
       "    <tr>\n",
       "      <th>258</th>\n",
       "      <td>22.0</td>\n",
       "      <td>112</td>\n",
       "      <td>1983</td>\n",
       "      <td>15</td>\n",
       "      <td>107.0</td>\n",
       "      <td>2778.0</td>\n",
       "      <td>6</td>\n",
       "      <td>US.</td>\n",
       "    </tr>\n",
       "    <tr>\n",
       "      <th>259</th>\n",
       "      <td>18.0</td>\n",
       "      <td>100</td>\n",
       "      <td>1972</td>\n",
       "      <td>16</td>\n",
       "      <td>117.0</td>\n",
       "      <td>3266.0</td>\n",
       "      <td>6</td>\n",
       "      <td>US.</td>\n",
       "    </tr>\n",
       "    <tr>\n",
       "      <th>260</th>\n",
       "      <td>22.0</td>\n",
       "      <td>105</td>\n",
       "      <td>1977</td>\n",
       "      <td>15</td>\n",
       "      <td>225.0</td>\n",
       "      <td>3353.0</td>\n",
       "      <td>6</td>\n",
       "      <td>US.</td>\n",
       "    </tr>\n",
       "  </tbody>\n",
       "</table>\n",
       "<p>261 rows × 8 columns</p>\n",
       "</div>"
      ],
      "text/plain": [
       "      mpg  hoursePower  Make Year  time-to-60  cubicinches  weightlbs  \\\n",
       "0    14.0          165       1972          12        350.0     4209.0   \n",
       "1    31.9           71       1980          14         89.0     1925.0   \n",
       "2    17.0          140       1971          11        302.0     3449.0   \n",
       "3    15.0          150       1971          10        400.0     3761.0   \n",
       "4    30.5           63       1978          17         98.0     2051.0   \n",
       "..    ...          ...        ...         ...          ...        ...   \n",
       "256  17.0          130       1980          15        305.0     3840.0   \n",
       "257  36.1           60       1979          16        118.0     1800.0   \n",
       "258  22.0          112       1983          15        107.0     2778.0   \n",
       "259  18.0          100       1972          16        117.0     3266.0   \n",
       "260  22.0          105       1977          15        225.0     3353.0   \n",
       "\n",
       "     cylinders     brand  \n",
       "0            8       US.  \n",
       "1            4   Europe.  \n",
       "2            8       US.  \n",
       "3            8       US.  \n",
       "4            4       US.  \n",
       "..         ...       ...  \n",
       "256          8       US.  \n",
       "257          4    Japan.  \n",
       "258          6       US.  \n",
       "259          6       US.  \n",
       "260          6       US.  \n",
       "\n",
       "[261 rows x 8 columns]"
      ]
     },
     "execution_count": 9,
     "metadata": {},
     "output_type": "execute_result"
    }
   ],
   "source": [
    "cars"
   ]
  },
  {
   "cell_type": "code",
   "execution_count": 10,
   "id": "f6568967",
   "metadata": {},
   "outputs": [
    {
     "data": {
      "text/plain": [
       "<matplotlib.collections.PathCollection at 0x22632b3a430>"
      ]
     },
     "execution_count": 10,
     "metadata": {},
     "output_type": "execute_result"
    },
    {
     "data": {
      "image/png": "[encoded data removed]",
      "text/plain": [
       "<Figure size 432x288 with 1 Axes>"
      ]
     },
     "metadata": {},
     "output_type": "display_data"
    }
   ],
   "source": [
    "plt.scatter(cars['mpg'], cars['hoursePower'],cars['Make Year'])"
   ]
  },
  {
   "cell_type": "code",
   "execution_count": 11,
   "id": "0b54dba1",
   "metadata": {},
   "outputs": [],
   "source": [
    "cardata=cars.iloc[:,0:3]"
   ]
  },
  {
   "cell_type": "code",
   "execution_count": 12,
   "id": "bfaaabfe",
   "metadata": {},
   "outputs": [
    {
     "data": {
      "text/html": [
       "<div>\n",
       "<style scoped>\n",
       "    .dataframe tbody tr th:only-of-type {\n",
       "        vertical-align: middle;\n",
       "    }\n",
       "\n",
       "    .dataframe tbody tr th {\n",
       "        vertical-align: top;\n",
       "    }\n",
       "\n",
       "    .dataframe thead th {\n",
       "        text-align: right;\n",
       "    }\n",
       "</style>\n",
       "<table border=\"1\" class=\"dataframe\">\n",
       "  <thead>\n",
       "    <tr style=\"text-align: right;\">\n",
       "      <th></th>\n",
       "      <th>mpg</th>\n",
       "      <th>hoursePower</th>\n",
       "      <th>Make Year</th>\n",
       "    </tr>\n",
       "  </thead>\n",
       "  <tbody>\n",
       "    <tr>\n",
       "      <th>0</th>\n",
       "      <td>14.0</td>\n",
       "      <td>165</td>\n",
       "      <td>1972</td>\n",
       "    </tr>\n",
       "    <tr>\n",
       "      <th>1</th>\n",
       "      <td>31.9</td>\n",
       "      <td>71</td>\n",
       "      <td>1980</td>\n",
       "    </tr>\n",
       "    <tr>\n",
       "      <th>2</th>\n",
       "      <td>17.0</td>\n",
       "      <td>140</td>\n",
       "      <td>1971</td>\n",
       "    </tr>\n",
       "    <tr>\n",
       "      <th>3</th>\n",
       "      <td>15.0</td>\n",
       "      <td>150</td>\n",
       "      <td>1971</td>\n",
       "    </tr>\n",
       "    <tr>\n",
       "      <th>4</th>\n",
       "      <td>30.5</td>\n",
       "      <td>63</td>\n",
       "      <td>1978</td>\n",
       "    </tr>\n",
       "  </tbody>\n",
       "</table>\n",
       "</div>"
      ],
      "text/plain": [
       "    mpg  hoursePower  Make Year\n",
       "0  14.0          165       1972\n",
       "1  31.9           71       1980\n",
       "2  17.0          140       1971\n",
       "3  15.0          150       1971\n",
       "4  30.5           63       1978"
      ]
     },
     "execution_count": 12,
     "metadata": {},
     "output_type": "execute_result"
    }
   ],
   "source": [
    "cardata.head()"
   ]
  },
  {
   "cell_type": "code",
   "execution_count": 13,
   "id": "51df1999",
   "metadata": {},
   "outputs": [],
   "source": [
    "kmeans = KMeans(2)"
   ]
  },
  {
   "cell_type": "code",
   "execution_count": 14,
   "id": "7952c662",
   "metadata": {},
   "outputs": [
    {
     "data": {
      "text/plain": [
       "KMeans(n_clusters=2)"
      ]
     },
     "execution_count": 14,
     "metadata": {},
     "output_type": "execute_result"
    }
   ],
   "source": [
    "kmeans.fit(cardata)"
   ]
  },
  {
   "cell_type": "code",
   "execution_count": 15,
   "id": "e1e9e031",
   "metadata": {},
   "outputs": [],
   "source": [
    "cars_clusters = kmeans.fit_predict(cardata)"
   ]
  },
  {
   "cell_type": "code",
   "execution_count": 16,
   "id": "eab25d12",
   "metadata": {},
   "outputs": [
    {
     "data": {
      "text/plain": [
       "array([1, 0, 1, 1, 0, 1, 1, 1, 0, 0, 0, 0, 1, 1, 0, 1, 0, 1, 0, 0, 0, 0,\n",
       "       0, 1, 0, 0, 0, 1, 0, 0, 0, 0, 0, 0, 0, 0, 0, 0, 1, 0, 0, 1, 0, 0,\n",
       "       1, 0, 1, 0, 0, 0, 1, 0, 1, 0, 1, 1, 0, 0, 0, 1, 0, 0, 1, 0, 1, 0,\n",
       "       0, 0, 0, 1, 0, 0, 0, 0, 0, 0, 0, 0, 0, 0, 1, 1, 1, 0, 0, 0, 0, 0,\n",
       "       0, 0, 0, 0, 1, 0, 0, 0, 1, 0, 1, 0, 1, 1, 0, 0, 0, 0, 0, 0, 0, 1,\n",
       "       0, 0, 1, 0, 0, 0, 0, 0, 0, 1, 0, 0, 1, 0, 0, 0, 1, 0, 0, 0, 0, 0,\n",
       "       1, 1, 1, 1, 0, 1, 0, 0, 0, 0, 0, 0, 1, 0, 0, 0, 1, 1, 0, 0, 1, 0,\n",
       "       0, 0, 0, 0, 0, 1, 0, 1, 0, 0, 0, 0, 0, 0, 1, 0, 0, 0, 0, 0, 0, 0,\n",
       "       1, 1, 1, 0, 0, 0, 1, 1, 0, 0, 0, 1, 1, 1, 0, 0, 1, 1, 1, 0, 0, 0,\n",
       "       0, 0, 0, 0, 0, 0, 0, 1, 0, 0, 1, 0, 0, 1, 0, 0, 0, 0, 0, 1, 0, 1,\n",
       "       0, 0, 1, 0, 1, 0, 1, 0, 0, 0, 1, 0, 0, 1, 0, 0, 1, 0, 0, 0, 1, 0,\n",
       "       1, 0, 1, 1, 1, 0, 0, 0, 0, 0, 0, 1, 0, 0, 1, 0, 0, 0, 0])"
      ]
     },
     "execution_count": 16,
     "metadata": {},
     "output_type": "execute_result"
    }
   ],
   "source": [
    "cars_clusters"
   ]
  },
  {
   "cell_type": "code",
   "execution_count": 17,
   "id": "896484e4",
   "metadata": {},
   "outputs": [],
   "source": [
    "carnew_cluster = cardata.copy()"
   ]
  },
  {
   "cell_type": "code",
   "execution_count": 18,
   "id": "8c63dc45",
   "metadata": {},
   "outputs": [
    {
     "data": {
      "text/html": [
       "<div>\n",
       "<style scoped>\n",
       "    .dataframe tbody tr th:only-of-type {\n",
       "        vertical-align: middle;\n",
       "    }\n",
       "\n",
       "    .dataframe tbody tr th {\n",
       "        vertical-align: top;\n",
       "    }\n",
       "\n",
       "    .dataframe thead th {\n",
       "        text-align: right;\n",
       "    }\n",
       "</style>\n",
       "<table border=\"1\" class=\"dataframe\">\n",
       "  <thead>\n",
       "    <tr style=\"text-align: right;\">\n",
       "      <th></th>\n",
       "      <th>mpg</th>\n",
       "      <th>hoursePower</th>\n",
       "      <th>Make Year</th>\n",
       "    </tr>\n",
       "  </thead>\n",
       "  <tbody>\n",
       "    <tr>\n",
       "      <th>0</th>\n",
       "      <td>14.0</td>\n",
       "      <td>165</td>\n",
       "      <td>1972</td>\n",
       "    </tr>\n",
       "    <tr>\n",
       "      <th>1</th>\n",
       "      <td>31.9</td>\n",
       "      <td>71</td>\n",
       "      <td>1980</td>\n",
       "    </tr>\n",
       "    <tr>\n",
       "      <th>2</th>\n",
       "      <td>17.0</td>\n",
       "      <td>140</td>\n",
       "      <td>1971</td>\n",
       "    </tr>\n",
       "    <tr>\n",
       "      <th>3</th>\n",
       "      <td>15.0</td>\n",
       "      <td>150</td>\n",
       "      <td>1971</td>\n",
       "    </tr>\n",
       "    <tr>\n",
       "      <th>4</th>\n",
       "      <td>30.5</td>\n",
       "      <td>63</td>\n",
       "      <td>1978</td>\n",
       "    </tr>\n",
       "    <tr>\n",
       "      <th>...</th>\n",
       "      <td>...</td>\n",
       "      <td>...</td>\n",
       "      <td>...</td>\n",
       "    </tr>\n",
       "    <tr>\n",
       "      <th>256</th>\n",
       "      <td>17.0</td>\n",
       "      <td>130</td>\n",
       "      <td>1980</td>\n",
       "    </tr>\n",
       "    <tr>\n",
       "      <th>257</th>\n",
       "      <td>36.1</td>\n",
       "      <td>60</td>\n",
       "      <td>1979</td>\n",
       "    </tr>\n",
       "    <tr>\n",
       "      <th>258</th>\n",
       "      <td>22.0</td>\n",
       "      <td>112</td>\n",
       "      <td>1983</td>\n",
       "    </tr>\n",
       "    <tr>\n",
       "      <th>259</th>\n",
       "      <td>18.0</td>\n",
       "      <td>100</td>\n",
       "      <td>1972</td>\n",
       "    </tr>\n",
       "    <tr>\n",
       "      <th>260</th>\n",
       "      <td>22.0</td>\n",
       "      <td>105</td>\n",
       "      <td>1977</td>\n",
       "    </tr>\n",
       "  </tbody>\n",
       "</table>\n",
       "<p>261 rows × 3 columns</p>\n",
       "</div>"
      ],
      "text/plain": [
       "      mpg  hoursePower  Make Year\n",
       "0    14.0          165       1972\n",
       "1    31.9           71       1980\n",
       "2    17.0          140       1971\n",
       "3    15.0          150       1971\n",
       "4    30.5           63       1978\n",
       "..    ...          ...        ...\n",
       "256  17.0          130       1980\n",
       "257  36.1           60       1979\n",
       "258  22.0          112       1983\n",
       "259  18.0          100       1972\n",
       "260  22.0          105       1977\n",
       "\n",
       "[261 rows x 3 columns]"
      ]
     },
     "execution_count": 18,
     "metadata": {},
     "output_type": "execute_result"
    }
   ],
   "source": [
    "carnew_cluster"
   ]
  },
  {
   "cell_type": "code",
   "execution_count": 19,
   "id": "d41059ce",
   "metadata": {},
   "outputs": [],
   "source": [
    "carnew_cluster['ClusterNum']=cars_clusters"
   ]
  },
  {
   "cell_type": "code",
   "execution_count": 20,
   "id": "83f3dfc9",
   "metadata": {},
   "outputs": [
    {
     "data": {
      "text/html": [
       "<div>\n",
       "<style scoped>\n",
       "    .dataframe tbody tr th:only-of-type {\n",
       "        vertical-align: middle;\n",
       "    }\n",
       "\n",
       "    .dataframe tbody tr th {\n",
       "        vertical-align: top;\n",
       "    }\n",
       "\n",
       "    .dataframe thead th {\n",
       "        text-align: right;\n",
       "    }\n",
       "</style>\n",
       "<table border=\"1\" class=\"dataframe\">\n",
       "  <thead>\n",
       "    <tr style=\"text-align: right;\">\n",
       "      <th></th>\n",
       "      <th>mpg</th>\n",
       "      <th>hoursePower</th>\n",
       "      <th>Make Year</th>\n",
       "      <th>ClusterNum</th>\n",
       "    </tr>\n",
       "  </thead>\n",
       "  <tbody>\n",
       "    <tr>\n",
       "      <th>0</th>\n",
       "      <td>14.0</td>\n",
       "      <td>165</td>\n",
       "      <td>1972</td>\n",
       "      <td>1</td>\n",
       "    </tr>\n",
       "    <tr>\n",
       "      <th>1</th>\n",
       "      <td>31.9</td>\n",
       "      <td>71</td>\n",
       "      <td>1980</td>\n",
       "      <td>0</td>\n",
       "    </tr>\n",
       "    <tr>\n",
       "      <th>2</th>\n",
       "      <td>17.0</td>\n",
       "      <td>140</td>\n",
       "      <td>1971</td>\n",
       "      <td>1</td>\n",
       "    </tr>\n",
       "    <tr>\n",
       "      <th>3</th>\n",
       "      <td>15.0</td>\n",
       "      <td>150</td>\n",
       "      <td>1971</td>\n",
       "      <td>1</td>\n",
       "    </tr>\n",
       "    <tr>\n",
       "      <th>4</th>\n",
       "      <td>30.5</td>\n",
       "      <td>63</td>\n",
       "      <td>1978</td>\n",
       "      <td>0</td>\n",
       "    </tr>\n",
       "    <tr>\n",
       "      <th>...</th>\n",
       "      <td>...</td>\n",
       "      <td>...</td>\n",
       "      <td>...</td>\n",
       "      <td>...</td>\n",
       "    </tr>\n",
       "    <tr>\n",
       "      <th>256</th>\n",
       "      <td>17.0</td>\n",
       "      <td>130</td>\n",
       "      <td>1980</td>\n",
       "      <td>1</td>\n",
       "    </tr>\n",
       "    <tr>\n",
       "      <th>257</th>\n",
       "      <td>36.1</td>\n",
       "      <td>60</td>\n",
       "      <td>1979</td>\n",
       "      <td>0</td>\n",
       "    </tr>\n",
       "    <tr>\n",
       "      <th>258</th>\n",
       "      <td>22.0</td>\n",
       "      <td>112</td>\n",
       "      <td>1983</td>\n",
       "      <td>0</td>\n",
       "    </tr>\n",
       "    <tr>\n",
       "      <th>259</th>\n",
       "      <td>18.0</td>\n",
       "      <td>100</td>\n",
       "      <td>1972</td>\n",
       "      <td>0</td>\n",
       "    </tr>\n",
       "    <tr>\n",
       "      <th>260</th>\n",
       "      <td>22.0</td>\n",
       "      <td>105</td>\n",
       "      <td>1977</td>\n",
       "      <td>0</td>\n",
       "    </tr>\n",
       "  </tbody>\n",
       "</table>\n",
       "<p>261 rows × 4 columns</p>\n",
       "</div>"
      ],
      "text/plain": [
       "      mpg  hoursePower  Make Year  ClusterNum\n",
       "0    14.0          165       1972           1\n",
       "1    31.9           71       1980           0\n",
       "2    17.0          140       1971           1\n",
       "3    15.0          150       1971           1\n",
       "4    30.5           63       1978           0\n",
       "..    ...          ...        ...         ...\n",
       "256  17.0          130       1980           1\n",
       "257  36.1           60       1979           0\n",
       "258  22.0          112       1983           0\n",
       "259  18.0          100       1972           0\n",
       "260  22.0          105       1977           0\n",
       "\n",
       "[261 rows x 4 columns]"
      ]
     },
     "execution_count": 20,
     "metadata": {},
     "output_type": "execute_result"
    }
   ],
   "source": [
    "carnew_cluster"
   ]
  },
  {
   "cell_type": "code",
   "execution_count": 21,
   "id": "5ebf3528",
   "metadata": {},
   "outputs": [],
   "source": [
    "wcss=[]\n",
    "for i in range(1,11):\n",
    "    kmeans = KMeans(i)\n",
    "    kmeans.fit(cardata)\n",
    "    wcss_iter = kmeans.inertia_\n",
    "    wcss.append(wcss_iter)"
   ]
  },
  {
   "cell_type": "code",
   "execution_count": 22,
   "id": "f76c1d27",
   "metadata": {},
   "outputs": [
    {
     "data": {
      "text/plain": [
       "[445818.827509578,\n",
       " 122546.32364859189,\n",
       " 79322.44619682548,\n",
       " 39994.86553572766,\n",
       " 30637.44510817807,\n",
       " 21945.600047781092,\n",
       " 17987.46330245991,\n",
       " 15478.197537373735,\n",
       " 13590.788645697765,\n",
       " 12003.71669906127]"
      ]
     },
     "execution_count": 22,
     "metadata": {},
     "output_type": "execute_result"
    }
   ],
   "source": [
    "wcss"
   ]
  },
  {
   "cell_type": "code",
   "execution_count": 23,
   "id": "b95f3077",
   "metadata": {},
   "outputs": [
    {
     "data": {
      "text/plain": [
       "Text(0, 0.5, 'Within Cluster Sum of Squares')"
      ]
     },
     "execution_count": 23,
     "metadata": {},
     "output_type": "execute_result"
    },
    {
     "data": {
      "image/png": "[encoded data removed]",
      "text/plain": [
       "<Figure size 432x288 with 1 Axes>"
      ]
     },
     "metadata": {},
     "output_type": "display_data"
    }
   ],
   "source": [
    "num_clusters = range(1,11)\n",
    "plt.plot(num_clusters,wcss)\n",
    "plt.title('Elbow Method')\n",
    "plt.xlabel('Number of clusters')\n",
    "plt.ylabel('Within Cluster Sum of Squares')"
   ]
  },
  {
   "cell_type": "code",
   "execution_count": 24,
   "id": "da063314",
   "metadata": {},
   "outputs": [],
   "source": []
  }
 ],
 "metadata": {
  "kernelspec": {
   "display_name": "Python 3 (ipykernel)",
   "language": "python",
   "name": "python3"
  },
  "language_info": {
   "codemirror_mode": {
    "name": "ipython",
    "version": 3
   },
   "file_extension": ".py",
   "mimetype": "text/x-python",
   "name": "python",
   "nbconvert_exporter": "python",
   "pygments_lexer": "ipython3",
   "version": "3.9.6"
  }
 },
 "nbformat": 4,
 "nbformat_minor": 5
}
