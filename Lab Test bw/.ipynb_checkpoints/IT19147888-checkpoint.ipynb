{
 "cells": [
  {
   "cell_type": "code",
   "execution_count": 1,
   "id": "0a169fd2",
   "metadata": {},
   "outputs": [],
   "source": [
    "import pandas as pd\n",
    "import numpy as np\n",
    "from matplotlib import pyplot as plt\n",
    "\n",
    "import statsmodels.api as sm\n",
    "from sklearn.linear_model import LinearRegression\n"
   ]
  },
  {
   "cell_type": "code",
   "execution_count": 2,
   "id": "f7b816d8",
   "metadata": {},
   "outputs": [],
   "source": [
    "data = pd.read_csv(\"DeathRate.csv\")"
   ]
  },
  {
   "cell_type": "code",
   "execution_count": 3,
   "id": "3952f66b",
   "metadata": {},
   "outputs": [
    {
     "data": {
      "text/html": [
       "<div>\n",
       "<style scoped>\n",
       "    .dataframe tbody tr th:only-of-type {\n",
       "        vertical-align: middle;\n",
       "    }\n",
       "\n",
       "    .dataframe tbody tr th {\n",
       "        vertical-align: top;\n",
       "    }\n",
       "\n",
       "    .dataframe thead th {\n",
       "        text-align: right;\n",
       "    }\n",
       "</style>\n",
       "<table border=\"1\" class=\"dataframe\">\n",
       "  <thead>\n",
       "    <tr style=\"text-align: right;\">\n",
       "      <th></th>\n",
       "      <th>DeathRate</th>\n",
       "      <th>DocAvail</th>\n",
       "      <th>HosAvail</th>\n",
       "      <th>AnnualIncome</th>\n",
       "      <th>PopDensity</th>\n",
       "    </tr>\n",
       "  </thead>\n",
       "  <tbody>\n",
       "    <tr>\n",
       "      <th>0</th>\n",
       "      <td>6.8</td>\n",
       "      <td>225</td>\n",
       "      <td>0.442</td>\n",
       "      <td>0.672</td>\n",
       "      <td>9.2</td>\n",
       "    </tr>\n",
       "    <tr>\n",
       "      <th>1</th>\n",
       "      <td>6.3</td>\n",
       "      <td>180</td>\n",
       "      <td>0.435</td>\n",
       "      <td>0.797</td>\n",
       "      <td>11.7</td>\n",
       "    </tr>\n",
       "    <tr>\n",
       "      <th>2</th>\n",
       "      <td>6.4</td>\n",
       "      <td>190</td>\n",
       "      <td>0.456</td>\n",
       "      <td>0.761</td>\n",
       "      <td>15.8</td>\n",
       "    </tr>\n",
       "    <tr>\n",
       "      <th>3</th>\n",
       "      <td>6.2</td>\n",
       "      <td>180</td>\n",
       "      <td>0.416</td>\n",
       "      <td>0.651</td>\n",
       "      <td>8.6</td>\n",
       "    </tr>\n",
       "    <tr>\n",
       "      <th>4</th>\n",
       "      <td>6.9</td>\n",
       "      <td>205</td>\n",
       "      <td>0.449</td>\n",
       "      <td>NaN</td>\n",
       "      <td>NaN</td>\n",
       "    </tr>\n",
       "  </tbody>\n",
       "</table>\n",
       "</div>"
      ],
      "text/plain": [
       "   DeathRate  DocAvail  HosAvail  AnnualIncome  PopDensity\n",
       "0        6.8       225     0.442         0.672         9.2\n",
       "1        6.3       180     0.435         0.797        11.7\n",
       "2        6.4       190     0.456         0.761        15.8\n",
       "3        6.2       180     0.416         0.651         8.6\n",
       "4        6.9       205     0.449           NaN         NaN"
      ]
     },
     "execution_count": 3,
     "metadata": {},
     "output_type": "execute_result"
    }
   ],
   "source": [
    "data.head()"
   ]
  },
  {
   "cell_type": "code",
   "execution_count": 6,
   "id": "d1792402",
   "metadata": {},
   "outputs": [
    {
     "data": {
      "text/plain": [
       "<bound method NDFrame.describe of     DeathRate  DocAvail  HosAvail  AnnualIncome  PopDensity\n",
       "0         6.8       225     0.442         0.672         9.2\n",
       "1         6.3       180     0.435         0.797        11.7\n",
       "2         6.4       190     0.456         0.761        15.8\n",
       "3         6.2       180     0.416         0.651         8.6\n",
       "4         6.9       205     0.449           NaN         NaN\n",
       "5         6.4       225     0.431         0.780        27.4\n",
       "6         6.3       185     0.487         0.771         9.3\n",
       "7         6.8       235     0.469           NaN        16.0\n",
       "8         6.9       235       NaN         0.818         NaN\n",
       "9         6.7       210     0.480         0.825        12.5\n",
       "10        6.9       245     0.516         0.632        20.1\n",
       "11        6.9       245     0.493           NaN         9.1\n",
       "12        6.3       185     0.374         0.709         NaN\n",
       "13        6.1       185     0.424         0.782         8.6\n",
       "14        6.2       180     0.441         0.775        20.3\n",
       "15        6.8       220     0.503         0.880         NaN\n",
       "16        6.5       194     0.503         0.833        19.2\n",
       "17        7.6       225     0.425           NaN         3.3\n",
       "18        6.3       210     0.371         0.816        11.2\n",
       "19        7.1       240     0.504         0.714        10.5\n",
       "20        6.8       225     0.400         0.765        10.1\n",
       "21        7.3       263     0.482         0.655         7.2\n",
       "22        6.4       210     0.475           NaN        13.6\n",
       "23        6.8       235     0.428         0.728         9.0\n",
       "24        7.2       230     0.559         0.721        24.6\n",
       "25        6.4       190     0.441         0.757        12.6\n",
       "26        6.6       220     0.492           NaN         5.6\n",
       "27        6.8       210       NaN         0.739         8.7\n",
       "28        6.1       180     0.415         0.713         NaN\n",
       "29        6.5       235     0.492         0.742         NaN\n",
       "30        6.4       185     0.484           NaN         NaN\n",
       "31        6.0       175     0.387           NaN         NaN\n",
       "32        6.0       192     0.436           NaN         NaN\n",
       "33        7.3       263     0.482         0.655         7.2\n",
       "34        6.1       180     0.340         0.821        12.3\n",
       "35        6.7       240     0.516         0.728         8.9\n",
       "36        6.4       210     0.475           NaN        13.6\n",
       "37        5.8       160     0.412         0.813         NaN\n",
       "38        6.9       230     0.411         0.595         2.8\n",
       "39        7.0       245     0.407         0.573         3.2\n",
       "40        7.3       228     0.445         0.726         9.4\n",
       "41        5.9       155       NaN           NaN        11.9\n",
       "42        6.2       200     0.449         0.804        15.4\n",
       "43        6.8       235     0.546         0.784         NaN\n",
       "44        7.0       235     0.480         0.744        18.9\n",
       "45        5.9       105     0.359         0.839         7.9\n",
       "46        6.1       180     0.528           NaN        12.2\n",
       "47        5.7       185     0.352         0.701        11.0\n",
       "48        7.1       245     0.414         0.778         2.8\n",
       "49        5.8       180     0.425         0.872         NaN\n",
       "50        7.4       240     0.599           NaN        17.1\n",
       "51        6.8       225     0.482           NaN         NaN\n",
       "52        6.8       215     0.457         0.734         5.8\n",
       "53        7.0       230     0.435         0.764         8.3>"
      ]
     },
     "execution_count": 6,
     "metadata": {},
     "output_type": "execute_result"
    }
   ],
   "source": [
    "data.describe"
   ]
  },
  {
   "cell_type": "code",
   "execution_count": null,
   "id": "7c206d16",
   "metadata": {},
   "outputs": [],
   "source": []
  }
 ],
 "metadata": {
  "kernelspec": {
   "display_name": "Python 3 (ipykernel)",
   "language": "python",
   "name": "python3"
  },
  "language_info": {
   "codemirror_mode": {
    "name": "ipython",
    "version": 3
   },
   "file_extension": ".py",
   "mimetype": "text/x-python",
   "name": "python",
   "nbconvert_exporter": "python",
   "pygments_lexer": "ipython3",
   "version": "3.9.6"
  }
 },
 "nbformat": 4,
 "nbformat_minor": 5
}
